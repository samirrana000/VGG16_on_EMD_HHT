{
 "cells": [
  {
   "cell_type": "markdown",
   "metadata": {},
   "source": [
    "### Import modules"
   ]
  },
  {
   "cell_type": "code",
   "execution_count": null,
   "metadata": {},
   "outputs": [],
   "source": [
    "import pandas as pd\n",
    "import numpy as np\n",
    "import os\n",
    "import tensorflow as tf\n",
    "import cv2\n",
    "from tensorflow import keras\n",
    "from  matplotlib import pyplot as plt\n",
    "from tensorflow.keras.applications.vgg16 import VGG16\n",
    "from tensorflow.keras.callbacks import EarlyStopping\n",
    "from sklearn.model_selection import KFold"
   ]
  },
  {
   "cell_type": "markdown",
   "metadata": {},
   "source": [
    "### Preprocessing"
   ]
  },
  {
   "cell_type": "code",
   "execution_count": null,
   "metadata": {},
   "outputs": [],
   "source": [
    "batch_size =128\n",
    "img_height = 224\n",
    "img_width = 224\n",
    "\n",
    "directory = \"../input/emd-hht/emd_image\""
   ]
  },
  {
   "cell_type": "code",
   "execution_count": null,
   "metadata": {},
   "outputs": [],
   "source": [
    "train_ds = tf.keras.utils.image_dataset_from_directory(\n",
    "  directory,\n",
    "  validation_split=0.2,\n",
    "  subset=\"training\",\n",
    "  seed=123,\n",
    "  label_mode='binary',\n",
    "  image_size=(img_height, img_width),\n",
    "  batch_size=batch_size)"
   ]
  },
  {
   "cell_type": "markdown",
   "metadata": {},
   "source": [
    "### Model Training"
   ]
  },
  {
   "cell_type": "code",
   "execution_count": null,
   "metadata": {},
   "outputs": [],
   "source": [
    "ds = train_ds.concatenate(val_ds)\n",
    "\n",
    "lookup_images = {}\n",
    "lookup_labels = {}\n",
    "for i, (x, y) in enumerate(ds):\n",
    "  lookup_images[i] = x\n",
    "  lookup_labels[i] = y\n",
    "\n",
    "kfold = KFold(n_splits=5, shuffle=True)\n",
    "\n",
    "for train, test in kfold.split(np.arange(len(ds))):\n",
    "    images_train = np.concatenate(list(map(lookup_images.get, train)))\n",
    "    labels_train = np.concatenate(list(map(lookup_labels.get, train)))\n",
    "    images_test = np.concatenate(list(map(lookup_images.get, test)))\n",
    "    labels_test = np.concatenate(list(map(lookup_labels.get, test)))\n",
    "    model = tf.keras.Sequential([\n",
    "        tf.keras.layers.Rescaling(1./255, input_shape=(224, 224, 3))])\n",
    "    base_model = VGG16(include_top=False,\n",
    "                       weights=None, input_shape=(224, 224, 3))\n",
    "    model.add(base_model)\n",
    "    model.add(tf.keras.layers.Flatten())\n",
    "    model.add(tf.keras.layers.Dense(1, activation='sigmoid'))\n",
    "    model.compile(optimizer=tf.keras.optimizers.Adam(1.0e-4),\n",
    "              loss='binary_crossentropy',\n",
    "              metrics=['accuracy'])\n",
    "    history = model.fit(images_train, labels_train,batch_size= 128,\n",
    "                        epochs=30,verbose=1)\n",
    "    model.save('./emd_check.h5',save_format='h5')\n",
    "    scores = model.evaluate(images_test, labels_test, verbose=1)"
   ]
  }
 ],
 "metadata": {
  "language_info": {
   "name": "python"
  }
 },
 "nbformat": 4,
 "nbformat_minor": 2
}
